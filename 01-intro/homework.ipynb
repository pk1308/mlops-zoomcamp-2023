{
  "cells": [
    {
      "cell_type": "code",
      "execution_count": 1,
      "metadata": {
        "id": "bw4znBF4pylF"
      },
      "outputs": [],
      "source": [
        "import os \n",
        "\n",
        "os.chdir('../..')"
      ]
    },
    {
      "cell_type": "code",
      "execution_count": 2,
      "metadata": {
        "id": "d-cTwbfdpylM"
      },
      "outputs": [],
      "source": [
        "import warnings \n",
        "\n",
        "warnings.filterwarnings(\"ignore\")"
      ]
    },
    {
      "cell_type": "code",
      "execution_count": 3,
      "metadata": {
        "id": "MEzAB68rpylN"
      },
      "outputs": [],
      "source": [
        "import pandas as pd\n",
        "import numpy as np\n",
        "import matplotlib.pyplot as plt\n",
        "import seaborn as sns\n",
        "import requests\n",
        "from sklearn.feature_extraction import DictVectorizer\n",
        "from sklearn.linear_model import LinearRegression\n",
        "from sklearn.metrics import mean_squared_error"
      ]
    },
    {
      "cell_type": "code",
      "execution_count": 4,
      "metadata": {
        "id": "YKXN-DEGpylO"
      },
      "outputs": [],
      "source": [
        "def download_file(url, file_path):\n",
        "    response = requests.get(url, stream=True)\n",
        "    response.raise_for_status()\n",
        "\n",
        "    with open(file_path, 'wb') as file:\n",
        "        for chunk in response.iter_content(chunk_size=8192):\n",
        "            file.write(chunk)\n",
        "\n",
        "    print(f\"File downloaded successfully: {file_path}\")"
      ]
    },
    {
      "cell_type": "code",
      "execution_count": 5,
      "metadata": {
        "id": "ehviKQSEpylP"
      },
      "outputs": [],
      "source": [
        "file_links = [\"https://d37ci6vzurychx.cloudfront.net/trip-data/yellow_tripdata_2022-01.parquet\" , \"https://d37ci6vzurychx.cloudfront.net/trip-data/yellow_tripdata_2022-02.parquet\"]"
      ]
    },
    {
      "cell_type": "code",
      "execution_count": 6,
      "metadata": {
        "id": "fZb-IxlnpylQ"
      },
      "outputs": [],
      "source": [
        "DATASET_PATH = \"datasets\"\n",
        "os.makedirs(DATASET_PATH, exist_ok=True)"
      ]
    },
    {
      "cell_type": "code",
      "execution_count": 7,
      "metadata": {
        "colab": {
          "base_uri": "https://localhost:8080/"
        },
        "id": "QmhTf6FspylS",
        "outputId": "48bb6017-140e-4717-cb6e-541ddb9f8cd7"
      },
      "outputs": [
        {
          "name": "stdout",
          "output_type": "stream",
          "text": [
            "File downloaded successfully: datasets/yellow_tripdata_2022-01.parquet\n",
            "File downloaded successfully: datasets/yellow_tripdata_2022-02.parquet\n"
          ]
        }
      ],
      "source": [
        "for file_link in file_links:\n",
        "    file_name = file_link.split('/')[-1]\n",
        "    download_file(file_link, os.path.join(DATASET_PATH, file_name))"
      ]
    },
    {
      "cell_type": "code",
      "execution_count": 8,
      "metadata": {
        "id": "i1uEEIcWpylV"
      },
      "outputs": [],
      "source": [
        "# Read the data for January. How many columns are there?"
      ]
    },
    {
      "cell_type": "code",
      "execution_count": 9,
      "metadata": {
        "id": "aaGgkGH4pylW"
      },
      "outputs": [],
      "source": [
        "jan_df = pd.read_parquet(os.path.join(DATASET_PATH, \"yellow_tripdata_2022-01.parquet\"))"
      ]
    },
    {
      "cell_type": "code",
      "execution_count": 10,
      "metadata": {
        "colab": {
          "base_uri": "https://localhost:8080/",
          "height": 270
        },
        "id": "NbFHA1RypylX",
        "outputId": "2272bd6e-71ff-4ed4-bc83-427e0a5cd646"
      },
      "outputs": [
        {
          "data": {
            "text/html": [
              "<div>\n",
              "<style scoped>\n",
              "    .dataframe tbody tr th:only-of-type {\n",
              "        vertical-align: middle;\n",
              "    }\n",
              "\n",
              "    .dataframe tbody tr th {\n",
              "        vertical-align: top;\n",
              "    }\n",
              "\n",
              "    .dataframe thead th {\n",
              "        text-align: right;\n",
              "    }\n",
              "</style>\n",
              "<table border=\"1\" class=\"dataframe\">\n",
              "  <thead>\n",
              "    <tr style=\"text-align: right;\">\n",
              "      <th></th>\n",
              "      <th>VendorID</th>\n",
              "      <th>tpep_pickup_datetime</th>\n",
              "      <th>tpep_dropoff_datetime</th>\n",
              "      <th>passenger_count</th>\n",
              "      <th>trip_distance</th>\n",
              "      <th>RatecodeID</th>\n",
              "      <th>store_and_fwd_flag</th>\n",
              "      <th>PULocationID</th>\n",
              "      <th>DOLocationID</th>\n",
              "      <th>payment_type</th>\n",
              "      <th>fare_amount</th>\n",
              "      <th>extra</th>\n",
              "      <th>mta_tax</th>\n",
              "      <th>tip_amount</th>\n",
              "      <th>tolls_amount</th>\n",
              "      <th>improvement_surcharge</th>\n",
              "      <th>total_amount</th>\n",
              "      <th>congestion_surcharge</th>\n",
              "      <th>airport_fee</th>\n",
              "    </tr>\n",
              "  </thead>\n",
              "  <tbody>\n",
              "    <tr>\n",
              "      <th>0</th>\n",
              "      <td>1</td>\n",
              "      <td>2022-01-01 00:35:40</td>\n",
              "      <td>2022-01-01 00:53:29</td>\n",
              "      <td>2.0</td>\n",
              "      <td>3.80</td>\n",
              "      <td>1.0</td>\n",
              "      <td>N</td>\n",
              "      <td>142</td>\n",
              "      <td>236</td>\n",
              "      <td>1</td>\n",
              "      <td>14.5</td>\n",
              "      <td>3.0</td>\n",
              "      <td>0.5</td>\n",
              "      <td>3.65</td>\n",
              "      <td>0.0</td>\n",
              "      <td>0.3</td>\n",
              "      <td>21.95</td>\n",
              "      <td>2.5</td>\n",
              "      <td>0.0</td>\n",
              "    </tr>\n",
              "    <tr>\n",
              "      <th>1</th>\n",
              "      <td>1</td>\n",
              "      <td>2022-01-01 00:33:43</td>\n",
              "      <td>2022-01-01 00:42:07</td>\n",
              "      <td>1.0</td>\n",
              "      <td>2.10</td>\n",
              "      <td>1.0</td>\n",
              "      <td>N</td>\n",
              "      <td>236</td>\n",
              "      <td>42</td>\n",
              "      <td>1</td>\n",
              "      <td>8.0</td>\n",
              "      <td>0.5</td>\n",
              "      <td>0.5</td>\n",
              "      <td>4.00</td>\n",
              "      <td>0.0</td>\n",
              "      <td>0.3</td>\n",
              "      <td>13.30</td>\n",
              "      <td>0.0</td>\n",
              "      <td>0.0</td>\n",
              "    </tr>\n",
              "    <tr>\n",
              "      <th>2</th>\n",
              "      <td>2</td>\n",
              "      <td>2022-01-01 00:53:21</td>\n",
              "      <td>2022-01-01 01:02:19</td>\n",
              "      <td>1.0</td>\n",
              "      <td>0.97</td>\n",
              "      <td>1.0</td>\n",
              "      <td>N</td>\n",
              "      <td>166</td>\n",
              "      <td>166</td>\n",
              "      <td>1</td>\n",
              "      <td>7.5</td>\n",
              "      <td>0.5</td>\n",
              "      <td>0.5</td>\n",
              "      <td>1.76</td>\n",
              "      <td>0.0</td>\n",
              "      <td>0.3</td>\n",
              "      <td>10.56</td>\n",
              "      <td>0.0</td>\n",
              "      <td>0.0</td>\n",
              "    </tr>\n",
              "    <tr>\n",
              "      <th>3</th>\n",
              "      <td>2</td>\n",
              "      <td>2022-01-01 00:25:21</td>\n",
              "      <td>2022-01-01 00:35:23</td>\n",
              "      <td>1.0</td>\n",
              "      <td>1.09</td>\n",
              "      <td>1.0</td>\n",
              "      <td>N</td>\n",
              "      <td>114</td>\n",
              "      <td>68</td>\n",
              "      <td>2</td>\n",
              "      <td>8.0</td>\n",
              "      <td>0.5</td>\n",
              "      <td>0.5</td>\n",
              "      <td>0.00</td>\n",
              "      <td>0.0</td>\n",
              "      <td>0.3</td>\n",
              "      <td>11.80</td>\n",
              "      <td>2.5</td>\n",
              "      <td>0.0</td>\n",
              "    </tr>\n",
              "    <tr>\n",
              "      <th>4</th>\n",
              "      <td>2</td>\n",
              "      <td>2022-01-01 00:36:48</td>\n",
              "      <td>2022-01-01 01:14:20</td>\n",
              "      <td>1.0</td>\n",
              "      <td>4.30</td>\n",
              "      <td>1.0</td>\n",
              "      <td>N</td>\n",
              "      <td>68</td>\n",
              "      <td>163</td>\n",
              "      <td>1</td>\n",
              "      <td>23.5</td>\n",
              "      <td>0.5</td>\n",
              "      <td>0.5</td>\n",
              "      <td>3.00</td>\n",
              "      <td>0.0</td>\n",
              "      <td>0.3</td>\n",
              "      <td>30.30</td>\n",
              "      <td>2.5</td>\n",
              "      <td>0.0</td>\n",
              "    </tr>\n",
              "  </tbody>\n",
              "</table>\n",
              "</div>"
            ],
            "text/plain": [
              "   VendorID tpep_pickup_datetime tpep_dropoff_datetime  passenger_count  \\\n",
              "0         1  2022-01-01 00:35:40   2022-01-01 00:53:29              2.0   \n",
              "1         1  2022-01-01 00:33:43   2022-01-01 00:42:07              1.0   \n",
              "2         2  2022-01-01 00:53:21   2022-01-01 01:02:19              1.0   \n",
              "3         2  2022-01-01 00:25:21   2022-01-01 00:35:23              1.0   \n",
              "4         2  2022-01-01 00:36:48   2022-01-01 01:14:20              1.0   \n",
              "\n",
              "   trip_distance  RatecodeID store_and_fwd_flag  PULocationID  DOLocationID  \\\n",
              "0           3.80         1.0                  N           142           236   \n",
              "1           2.10         1.0                  N           236            42   \n",
              "2           0.97         1.0                  N           166           166   \n",
              "3           1.09         1.0                  N           114            68   \n",
              "4           4.30         1.0                  N            68           163   \n",
              "\n",
              "   payment_type  fare_amount  extra  mta_tax  tip_amount  tolls_amount  \\\n",
              "0             1         14.5    3.0      0.5        3.65           0.0   \n",
              "1             1          8.0    0.5      0.5        4.00           0.0   \n",
              "2             1          7.5    0.5      0.5        1.76           0.0   \n",
              "3             2          8.0    0.5      0.5        0.00           0.0   \n",
              "4             1         23.5    0.5      0.5        3.00           0.0   \n",
              "\n",
              "   improvement_surcharge  total_amount  congestion_surcharge  airport_fee  \n",
              "0                    0.3         21.95                   2.5          0.0  \n",
              "1                    0.3         13.30                   0.0          0.0  \n",
              "2                    0.3         10.56                   0.0          0.0  \n",
              "3                    0.3         11.80                   2.5          0.0  \n",
              "4                    0.3         30.30                   2.5          0.0  "
            ]
          },
          "metadata": {},
          "output_type": "display_data"
        }
      ],
      "source": [
        "display(jan_df.head())"
      ]
    },
    {
      "cell_type": "code",
      "execution_count": 11,
      "metadata": {
        "colab": {
          "base_uri": "https://localhost:8080/",
          "height": 140
        },
        "id": "0z7PnQG-pylY",
        "outputId": "15340fa7-67e4-45dd-9c33-cc78e7e457d9"
      },
      "outputs": [
        {
          "data": {
            "text/plain": [
              "Index(['VendorID', 'tpep_pickup_datetime', 'tpep_dropoff_datetime',\n",
              "       'passenger_count', 'trip_distance', 'RatecodeID', 'store_and_fwd_flag',\n",
              "       'PULocationID', 'DOLocationID', 'payment_type', 'fare_amount', 'extra',\n",
              "       'mta_tax', 'tip_amount', 'tolls_amount', 'improvement_surcharge',\n",
              "       'total_amount', 'congestion_surcharge', 'airport_fee'],\n",
              "      dtype='object')"
            ]
          },
          "metadata": {},
          "output_type": "display_data"
        },
        {
          "data": {
            "text/plain": [
              "'19 columns'"
            ]
          },
          "metadata": {},
          "output_type": "display_data"
        }
      ],
      "source": [
        "display(jan_df.columns , f\"{len(jan_df.columns)} columns\")"
      ]
    },
    {
      "cell_type": "code",
      "execution_count": 12,
      "metadata": {
        "id": "9UjEIdg-pylZ"
      },
      "outputs": [],
      "source": [
        "# Question 2:  Standard deviation of the trips duration in Jan 2022 Yellow Taxi Trip data"
      ]
    },
    {
      "cell_type": "code",
      "execution_count": 13,
      "metadata": {
        "id": "EJxi-gcrpylb"
      },
      "outputs": [],
      "source": [
        "jan_df[\"duration\"] = jan_df[\"tpep_dropoff_datetime\"] - jan_df[\"tpep_pickup_datetime\"]"
      ]
    },
    {
      "cell_type": "code",
      "execution_count": 14,
      "metadata": {
        "id": "djTbkVa3pylb"
      },
      "outputs": [],
      "source": [
        "jan_df[\"duration\"] = jan_df[\"duration\"].dt.total_seconds()/60"
      ]
    },
    {
      "cell_type": "code",
      "execution_count": 15,
      "metadata": {
        "colab": {
          "base_uri": "https://localhost:8080/"
        },
        "id": "v_xQHFthpylc",
        "outputId": "d6f28ee7-4f91-46d5-b5c4-feb478cf4c43"
      },
      "outputs": [
        {
          "data": {
            "text/plain": [
              "46.44530513776802"
            ]
          },
          "execution_count": 15,
          "metadata": {},
          "output_type": "execute_result"
        }
      ],
      "source": [
        "jan_df[\"duration\"].std()"
      ]
    },
    {
      "cell_type": "code",
      "execution_count": 16,
      "metadata": {
        "colab": {
          "base_uri": "https://localhost:8080/"
        },
        "id": "wViz1B3hpyle",
        "outputId": "53d249f4-dfaf-4f50-ed3a-242cb0147ccc"
      },
      "outputs": [
        {
          "name": "stdout",
          "output_type": "stream",
          "text": [
            "Fraction of the records left after dropping the outliers: 0.945216810048658\n"
          ]
        }
      ],
      "source": [
        "# Question 3: Fraction of the records left after dropping the outliers\n",
        "\n",
        "def drop_outliers(df, column, low, high):\n",
        "    return df.loc[(df[column] > low) & (df[column] < high)]\n",
        "\n",
        "q1 = jan_df[\"duration\"].quantile(0.25)\n",
        "q3 = jan_df[\"duration\"].quantile(0.75)\n",
        "\n",
        "iqr = q3 - q1\n",
        "\n",
        "low = q1 - 1.5 * iqr\n",
        "high = q3 + 1.5 * iqr\n",
        "\n",
        "print(f\"Fraction of the records left after dropping the outliers: {len(drop_outliers(jan_df, 'duration', low, high))/len(jan_df)}\")"
      ]
    },
    {
      "cell_type": "code",
      "execution_count": 17,
      "metadata": {
        "colab": {
          "base_uri": "https://localhost:8080/",
          "height": 541
        },
        "id": "KszGZJ_upylg",
        "outputId": "bb879544-dabb-4950-d6c0-97944ebc811a"
      },
      "outputs": [
        {
          "data": {
            "text/plain": [
              "<seaborn.axisgrid.FacetGrid at 0x7f7ef5223670>"
            ]
          },
          "execution_count": 17,
          "metadata": {},
          "output_type": "execute_result"
        },
        {
          "data": {
            "text/plain": [
              "<Figure size 1000x500 with 0 Axes>"
            ]
          },
          "metadata": {},
          "output_type": "display_data"
        },
        {
          "data": {
            "image/png": "[encoded data removed]",
            "text/plain": [
              "<Figure size 500x500 with 1 Axes>"
            ]
          },
          "metadata": {},
          "output_type": "display_data"
        }
      ],
      "source": [
        "plt.figure(figsize=(10, 5))\n",
        "sns.displot(jan_df[\"duration\"])"
      ]
    },
    {
      "cell_type": "code",
      "execution_count": 18,
      "metadata": {
        "id": "H_go1q_8pylh"
      },
      "outputs": [],
      "source": [
        "# lets remove the values below 1\n",
        "\n",
        "df_after_outlier_removed = jan_df.loc[(jan_df[\"duration\"] >= 1) & (jan_df[\"duration\"] <= 60)]"
      ]
    },
    {
      "cell_type": "code",
      "execution_count": 19,
      "metadata": {
        "colab": {
          "base_uri": "https://localhost:8080/"
        },
        "id": "81briRXGpyli",
        "outputId": "5e7c447e-9aa6-4b9e-ac73-656edf8eed2b"
      },
      "outputs": [
        {
          "data": {
            "text/plain": [
              "count    2.421440e+06\n",
              "mean     1.267128e+01\n",
              "std      8.999282e+00\n",
              "min      1.000000e+00\n",
              "25%      6.433333e+00\n",
              "50%      1.023333e+01\n",
              "75%      1.613333e+01\n",
              "max      6.000000e+01\n",
              "Name: duration, dtype: float64"
            ]
          },
          "execution_count": 19,
          "metadata": {},
          "output_type": "execute_result"
        }
      ],
      "source": [
        "df_after_outlier_removed [\"duration\"].describe()"
      ]
    },
    {
      "cell_type": "code",
      "execution_count": 20,
      "metadata": {
        "colab": {
          "base_uri": "https://localhost:8080/",
          "height": 36
        },
        "id": "h0SJBZ1tpyli",
        "outputId": "50d7f368-0e07-4d7d-cad6-4c39391a6a1b"
      },
      "outputs": [
        {
          "data": {
            "text/plain": [
              "'low : -8.341666666666669 , high : 30.908333333333335'"
            ]
          },
          "metadata": {},
          "output_type": "display_data"
        }
      ],
      "source": [
        "q1 = df_after_outlier_removed[\"duration\"].quantile(0.25)\n",
        "q3 = df_after_outlier_removed [\"duration\"].quantile(0.75)\n",
        "low = q1 - 1.5 * iqr\n",
        "high = q3 + 1.5 * iqr\n",
        "\n",
        "display(f\"low : {low} , high : {high}\")"
      ]
    },
    {
      "cell_type": "code",
      "execution_count": 21,
      "metadata": {
        "colab": {
          "base_uri": "https://localhost:8080/",
          "height": 523
        },
        "id": "Y9-SpPvSpylj",
        "outputId": "9f23289f-176e-4913-8f09-8a9c0a210624"
      },
      "outputs": [
        {
          "data": {
            "text/plain": [
              "<seaborn.axisgrid.FacetGrid at 0x7f7ef5223160>"
            ]
          },
          "execution_count": 21,
          "metadata": {},
          "output_type": "execute_result"
        },
        {
          "data": {
            "image/png": "[encoded data removed]",
            "text/plain": [
              "<Figure size 500x500 with 1 Axes>"
            ]
          },
          "metadata": {},
          "output_type": "display_data"
        }
      ],
      "source": [
        "sns.displot(df_after_outlier_removed [\"duration\"], kde=True)"
      ]
    },
    {
      "cell_type": "code",
      "execution_count": 22,
      "metadata": {
        "colab": {
          "base_uri": "https://localhost:8080/",
          "height": 36
        },
        "id": "Z-E8q-PCpylk",
        "outputId": "288fc9d0-4139-492b-cf75-8fa1a536b3b7"
      },
      "outputs": [
        {
          "data": {
            "text/plain": [
              "'Fraction of the records left after dropping the outliers: 0.9827547930522406'"
            ]
          },
          "metadata": {},
          "output_type": "display_data"
        }
      ],
      "source": [
        "display(f\"Fraction of the records left after dropping the outliers: {len(df_after_outlier_removed )/len(jan_df)}\")"
      ]
    },
    {
      "cell_type": "code",
      "execution_count": 23,
      "metadata": {
        "colab": {
          "base_uri": "https://localhost:8080/"
        },
        "id": "WUSoUe9Npyll",
        "outputId": "ab7bccd9-c849-42ba-e8f0-77ed4dd6fd89"
      },
      "outputs": [
        {
          "name": "stdout",
          "output_type": "stream",
          "text": [
            "<class 'pandas.core.frame.DataFrame'>\n",
            "Int64Index: 2421440 entries, 0 to 2463930\n",
            "Data columns (total 20 columns):\n",
            " #   Column                 Dtype         \n",
            "---  ------                 -----         \n",
            " 0   VendorID               int64         \n",
            " 1   tpep_pickup_datetime   datetime64[ns]\n",
            " 2   tpep_dropoff_datetime  datetime64[ns]\n",
            " 3   passenger_count        float64       \n",
            " 4   trip_distance          float64       \n",
            " 5   RatecodeID             float64       \n",
            " 6   store_and_fwd_flag     object        \n",
            " 7   PULocationID           int64         \n",
            " 8   DOLocationID           int64         \n",
            " 9   payment_type           int64         \n",
            " 10  fare_amount            float64       \n",
            " 11  extra                  float64       \n",
            " 12  mta_tax                float64       \n",
            " 13  tip_amount             float64       \n",
            " 14  tolls_amount           float64       \n",
            " 15  improvement_surcharge  float64       \n",
            " 16  total_amount           float64       \n",
            " 17  congestion_surcharge   float64       \n",
            " 18  airport_fee            float64       \n",
            " 19  duration               float64       \n",
            "dtypes: datetime64[ns](2), float64(13), int64(4), object(1)\n",
            "memory usage: 388.0+ MB\n"
          ]
        }
      ],
      "source": [
        "df_after_outlier_removed.info()"
      ]
    },
    {
      "cell_type": "code",
      "execution_count": 24,
      "metadata": {
        "id": "yGw2cK7wpylm"
      },
      "outputs": [],
      "source": [
        "df_after_outlier_removed['PULocationID']  = df_after_outlier_removed['PULocationID'].astype('str')\n",
        "df_after_outlier_removed['DOLocationID']  = df_after_outlier_removed['DOLocationID'].astype('str')"
      ]
    },
    {
      "cell_type": "code",
      "execution_count": 25,
      "metadata": {
        "id": "lkCewYWkpylm"
      },
      "outputs": [],
      "source": [
        "df_after_outlier_removed['PU_DO'] =df_after_outlier_removed['PULocationID'] + '_' + df_after_outlier_removed['DOLocationID']"
      ]
    },
    {
      "cell_type": "code",
      "execution_count": 26,
      "metadata": {
        "colab": {
          "base_uri": "https://localhost:8080/"
        },
        "id": "CEvok8wVpylm",
        "outputId": "80f533e8-ba8f-4605-8464-8479611590ea"
      },
      "outputs": [
        {
          "data": {
            "text/plain": [
              "20666"
            ]
          },
          "execution_count": 26,
          "metadata": {},
          "output_type": "execute_result"
        }
      ],
      "source": [
        "df_after_outlier_removed['PU_DO'].nunique()"
      ]
    },
    {
      "cell_type": "code",
      "execution_count": 27,
      "metadata": {
        "colab": {
          "base_uri": "https://localhost:8080/"
        },
        "id": "cKoo6WC6pyln",
        "outputId": "c62731a1-0e72-4446-938b-ffa7314de93a"
      },
      "outputs": [
        {
          "data": {
            "text/plain": [
              "3541"
            ]
          },
          "execution_count": 27,
          "metadata": {},
          "output_type": "execute_result"
        }
      ],
      "source": [
        "df_after_outlier_removed['duration'].nunique()"
      ]
    },
    {
      "cell_type": "code",
      "execution_count": 28,
      "metadata": {
        "colab": {
          "base_uri": "https://localhost:8080/"
        },
        "id": "Lctfq4Qzpyln",
        "outputId": "d6ada9e8-6ef6-42b6-ad10-e5ecf64e8971"
      },
      "outputs": [
        {
          "data": {
            "text/plain": [
              "8184"
            ]
          },
          "execution_count": 28,
          "metadata": {},
          "output_type": "execute_result"
        }
      ],
      "source": [
        "jan_df['duration'].nunique()"
      ]
    },
    {
      "cell_type": "code",
      "execution_count": 30,
      "metadata": {
        "id": "vrpdR1Nfpylo"
      },
      "outputs": [],
      "source": [
        "categorical = ['PULocationID', 'DOLocationID']\n",
        "numerical = ['trip_distance']"
      ]
    },
    {
      "cell_type": "code",
      "execution_count": 31,
      "metadata": {
        "colab": {
          "base_uri": "https://localhost:8080/",
          "height": 52
        },
        "id": "1PF9hyI4pylo",
        "outputId": "f032d30f-55fe-44ff-9679-078f43b3add4"
      },
      "outputs": [
        {
          "data": {
            "text/plain": [
              "(2421440, 516)"
            ]
          },
          "metadata": {},
          "output_type": "display_data"
        },
        {
          "data": {
            "text/plain": [
              "7.001496179431534"
            ]
          },
          "execution_count": 31,
          "metadata": {},
          "output_type": "execute_result"
        }
      ],
      "source": [
        "\n",
        "\n",
        "\n",
        "dv = DictVectorizer()\n",
        "\n",
        "train_dicts = df_after_outlier_removed[categorical + numerical].to_dict(orient='records')\n",
        "X_train = dv.fit_transform(train_dicts)\n",
        "\n",
        "target = 'duration'\n",
        "y_train =df_after_outlier_removed[target].values\n",
        "lr = LinearRegression()\n",
        "lr.fit(X_train, y_train)\n",
        "\n",
        "display(X_train.shape)\n",
        "y_pred = lr.predict(X_train)\n",
        "\n",
        "mean_squared_error(y_train, y_pred, squared=False)"
      ]
    },
    {
      "cell_type": "code",
      "execution_count": 39,
      "metadata": {},
      "outputs": [
        {
          "data": {
            "text/plain": [
              "(516,)"
            ]
          },
          "execution_count": 39,
          "metadata": {},
          "output_type": "execute_result"
        }
      ],
      "source": [
        "dv.get_feature_names_out().shape"
      ]
    },
    {
      "cell_type": "code",
      "execution_count": 31,
      "metadata": {
        "colab": {
          "base_uri": "https://localhost:8080/",
          "height": 447
        },
        "id": "pjliH-yGpylp",
        "outputId": "7cd257dd-e0e7-4225-f2d6-c3f057b73bf9"
      },
      "outputs": [
        {
          "data": {
            "text/plain": [
              "<matplotlib.legend.Legend at 0x7fcf99a987f0>"
            ]
          },
          "execution_count": 31,
          "metadata": {},
          "output_type": "execute_result"
        },
        {
          "data": {
            "image/png": "[encoded data removed]",
            "text/plain": [
              "<Figure size 640x480 with 1 Axes>"
            ]
          },
          "metadata": {},
          "output_type": "display_data"
        }
      ],
      "source": [
        "sns.distplot(y_pred, label='prediction')\n",
        "sns.distplot(y_train, label='actual')\n",
        "\n",
        "plt.legend()"
      ]
    },
    {
      "cell_type": "code",
      "execution_count": 40,
      "metadata": {
        "id": "B3rhlLBSpylp"
      },
      "outputs": [],
      "source": [
        "feb_df = pd.read_parquet(os.path.join(DATASET_PATH, \"yellow_tripdata_2022-02.parquet\"))"
      ]
    },
    {
      "cell_type": "code",
      "execution_count": 41,
      "metadata": {
        "colab": {
          "base_uri": "https://localhost:8080/",
          "height": 52
        },
        "id": "LZBAiF5Bpylp",
        "outputId": "eea15fe8-2859-418c-c6da-87cfc04de20d"
      },
      "outputs": [],
      "source": [
        "feb_df[\"duration\"] = feb_df[\"tpep_dropoff_datetime\"] - feb_df[\"tpep_pickup_datetime\"]\n",
        "\n",
        "feb_df[\"duration\"] = feb_df[\"duration\"].dt.total_seconds()/60\n",
        "\n",
        "feb_df['PULocationID']  = feb_df['PULocationID'].astype('str')\n",
        "feb_df['DOLocationID']  = feb_df['DOLocationID'].astype('str')\n",
        "\n",
        "feb_df['PU_DO'] =feb_df['PULocationID'] + '_' + feb_df['DOLocationID']\n",
        "\n",
        "df_val = feb_df.loc[(feb_df[\"duration\"] >= 1) & (feb_df[\"duration\"] <= 60)]\n",
        "\n",
        "test_dicts = df_val[categorical + numerical].to_dict(orient='records')\n",
        "\n",
        "X_test = dv.transform(test_dicts)\n",
        "display(X_test.shape)\n",
        "\n",
        "y_test = df_val[target].values\n",
        "\n",
        "y_pred = lr.predict(X_test)\n",
        "\n",
        "mean_squared_error(y_test, y_pred, squared=False)"
      ]
    },
    {
      "cell_type": "code",
      "execution_count": 34,
      "metadata": {
        "colab": {
          "base_uri": "https://localhost:8080/",
          "height": 447
        },
        "id": "bhy0CF4Fpylq",
        "outputId": "49a02b13-743c-46e2-fe09-534bc39b9701"
      },
      "outputs": [
        {
          "data": {
            "text/plain": [
              "<matplotlib.legend.Legend at 0x7fcf993d33d0>"
            ]
          },
          "execution_count": 34,
          "metadata": {},
          "output_type": "execute_result"
        },
        {
          "data": {
            "image/png": "[encoded data removed]",
            "text/plain": [
              "<Figure size 640x480 with 1 Axes>"
            ]
          },
          "metadata": {},
          "output_type": "display_data"
        }
      ],
      "source": [
        "sns.distplot(y_pred, label='prediction')\n",
        "sns.distplot(y_test, label='actual')\n",
        "\n",
        "plt.legend()"
      ]
    }
  ],
  "metadata": {
    "colab": {
      "provenance": []
    },
    "kernelspec": {
      "display_name": "mlops",
      "language": "python",
      "name": "python3"
    },
    "language_info": {
      "codemirror_mode": {
        "name": "ipython",
        "version": 3
      },
      "file_extension": ".py",
      "mimetype": "text/x-python",
      "name": "python",
      "nbconvert_exporter": "python",
      "pygments_lexer": "ipython3",
      "version": "3.9.0"
    },
    "orig_nbformat": 4
  },
  "nbformat": 4,
  "nbformat_minor": 0
}
